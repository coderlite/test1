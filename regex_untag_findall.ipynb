{
 "cells": [
  {
   "cell_type": "code",
   "execution_count": 3,
   "id": "bd58513f-6549-40dc-9859-27abe0467a3e",
   "metadata": {},
   "outputs": [],
   "source": [
    "import re\n",
    "s1 = '12,000 monkeys on 100 typewriters for 50.12 days'"
   ]
  },
  {
   "cell_type": "code",
   "execution_count": 17,
   "id": "f6bff780-5fbf-409f-ba83-15e7c02c5f6f",
   "metadata": {},
   "outputs": [],
   "source": [
    "expr1 = re.compile(r'\\d{1,3}(,\\d{1,3})*(\\.\\d*)?')\n",
    "expr_decimal2 = re.compile(r'(\\d{1,3}(,\\d{1,3})*(\\.\\d+)?)')\n",
    "expr_bound = re.compile(r'(\\d{1,3}(,\\d{1,3})*(\\.\\d*)?\\b)')\n",
    "expr_untag = re.compile(r'\\d{1,3}(?:,\\d{1,3})*(?:\\.\\d*)?')"
   ]
  },
  {
   "cell_type": "code",
   "execution_count": 6,
   "id": "a22c4033-9880-422d-89b2-c2ec9b4c09ce",
   "metadata": {},
   "outputs": [],
   "source": [
    "lst1 = re.findall(expr1,s1)"
   ]
  },
  {
   "cell_type": "code",
   "execution_count": 7,
   "id": "f53e4b46-4799-4d0e-a87b-4aa1bbc9b2bc",
   "metadata": {},
   "outputs": [
    {
     "data": {
      "text/plain": [
       "[(',000', ''), ('', ''), ('', '.12')]"
      ]
     },
     "execution_count": 7,
     "metadata": {},
     "output_type": "execute_result"
    }
   ],
   "source": [
    "lst1"
   ]
  },
  {
   "cell_type": "code",
   "execution_count": 15,
   "id": "cac40571-a25c-48b0-ba03-109356c468f7",
   "metadata": {},
   "outputs": [],
   "source": [
    "lst2 = re.findall(expr_decimal2,s1)"
   ]
  },
  {
   "cell_type": "code",
   "execution_count": 16,
   "id": "192559c1-94bc-49b6-81f5-ae79e1f70380",
   "metadata": {},
   "outputs": [
    {
     "data": {
      "text/plain": [
       "[('12,000', ',000', ''), ('100', '', ''), ('50.12', '', '.12')]"
      ]
     },
     "execution_count": 16,
     "metadata": {},
     "output_type": "execute_result"
    }
   ],
   "source": [
    "lst2"
   ]
  },
  {
   "cell_type": "code",
   "execution_count": 18,
   "id": "25698dac-410f-4498-a5ac-4ae5e8e78800",
   "metadata": {},
   "outputs": [],
   "source": [
    "lst3 = re.findall(expr_bound,s1)"
   ]
  },
  {
   "cell_type": "code",
   "execution_count": 19,
   "id": "4f0dca32-cd8c-4737-8e3e-b4be75517d65",
   "metadata": {},
   "outputs": [
    {
     "data": {
      "text/plain": [
       "[('12,000', ',000', ''), ('100', '', ''), ('50.12', '', '.12')]"
      ]
     },
     "execution_count": 19,
     "metadata": {},
     "output_type": "execute_result"
    }
   ],
   "source": [
    "lst3"
   ]
  },
  {
   "cell_type": "code",
   "execution_count": 12,
   "id": "b2e468ec-4b5b-404a-b23e-f663753ee0a0",
   "metadata": {},
   "outputs": [],
   "source": [
    "lst4 = re.findall(expr_untag,s1)"
   ]
  },
  {
   "cell_type": "code",
   "execution_count": 13,
   "id": "7d154a22-563f-4430-8b6a-ac05b5ef763a",
   "metadata": {},
   "outputs": [
    {
     "data": {
      "text/plain": [
       "['12,000', '100', '50.12']"
      ]
     },
     "execution_count": 13,
     "metadata": {},
     "output_type": "execute_result"
    }
   ],
   "source": [
    "lst4"
   ]
  },
  {
   "cell_type": "code",
   "execution_count": 20,
   "id": "1ac34a87-daaa-4f22-8d17-937fb467851e",
   "metadata": {},
   "outputs": [],
   "source": [
    "lst5 = re.search(expr_decimal2,'test 1,234.5 times 6,789')"
   ]
  },
  {
   "cell_type": "code",
   "execution_count": 21,
   "id": "9987b72c-fd08-428d-954f-dde647177c78",
   "metadata": {},
   "outputs": [
    {
     "data": {
      "text/plain": [
       "<re.Match object; span=(5, 12), match='1,234.5'>"
      ]
     },
     "execution_count": 21,
     "metadata": {},
     "output_type": "execute_result"
    }
   ],
   "source": [
    "lst5"
   ]
  },
  {
   "cell_type": "code",
   "execution_count": null,
   "id": "5d4dfd9a-7a67-431a-bcd5-a2a3fc594e98",
   "metadata": {},
   "outputs": [],
   "source": []
  }
 ],
 "metadata": {
  "kernelspec": {
   "display_name": "Python 3",
   "language": "python",
   "name": "python3"
  },
  "language_info": {
   "codemirror_mode": {
    "name": "ipython",
    "version": 3
   },
   "file_extension": ".py",
   "mimetype": "text/x-python",
   "name": "python",
   "nbconvert_exporter": "python",
   "pygments_lexer": "ipython3",
   "version": "3.9.1"
  }
 },
 "nbformat": 4,
 "nbformat_minor": 5
}
